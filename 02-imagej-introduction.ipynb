{
 "cells": [
  {
   "cell_type": "markdown",
   "metadata": {
    "slideshow": {
     "slide_type": "slide"
    }
   },
   "source": [
    "# Introduction to ImageJ / Fiji\n",
    "\n",
    "Jan Eglinger\n",
    "\n",
    "![FMI](http://www.fmi.ch/img/logo-FMI-grey.gif)\n",
    "\n",
    "<small>Facility for Advanced Imaging and Microscopy (FAIM)</small><br>\n",
    "<small>Friedrich Miescher Institute for Biomedical Research (FMI)\n",
    "Basel, Switzerland</small>\n",
    "\n",
    "Basel, December 5, 2019\n"
   ]
  },
  {
   "cell_type": "markdown",
   "metadata": {
    "slideshow": {
     "slide_type": "slide"
    }
   },
   "source": [
    "## Agenda\n",
    "\n",
    "1. History\n",
    "0. User Interface\n",
    "0. Tools and Selections\n",
    "0. ROI Manager\n",
    "0. Hyperstacks\n",
    "0. Image Inspection\n",
    "0. Scaling and Calibration\n",
    "0. Image Manipulation\n",
    "0. Macro recording\n",
    "0. Updater\n"
   ]
  },
  {
   "cell_type": "markdown",
   "metadata": {
    "slideshow": {
     "slide_type": "slide"
    }
   },
   "source": [
    "### ImageJ — Fiji — ImageJ2\n",
    "\n",
    "#### Overview of ImageJ projects and history\n",
    "\n",
    "* https://imagej.net/ImageJ\n"
   ]
  },
  {
   "cell_type": "markdown",
   "metadata": {
    "cell_style": "split",
    "slideshow": {
     "slide_type": "slide"
    }
   },
   "source": [
    "### The ImageJ Main Window\n",
    "\n",
    "![ImageJ Main Window](images/screen/imagej-main-window-annotated.png)\n",
    "\n"
   ]
  },
  {
   "cell_type": "markdown",
   "metadata": {
    "cell_style": "split",
    "slideshow": {
     "slide_type": "-"
    }
   },
   "source": [
    "Toolbar\n",
    "\n",
    "* *Right-click* -> more choices\n",
    "* *Double-click* -> options\n",
    "\n",
    "Status and search bar\n",
    "\n",
    "* Information about status and progress\n",
    "* The *search bar* lets you search:\n",
    "  * commands\n",
    "  * forum posts\n",
    "  * wiki pages\n",
    "  * much more...\n"
   ]
  },
  {
   "cell_type": "markdown",
   "metadata": {
    "slideshow": {
     "slide_type": "slide"
    }
   },
   "source": [
    "### ImageJ Menu\n",
    "\n",
    "* Main functionality in the [User Guide](https://imagej.net/docs/guide/146.html)\n",
    "* The menu is extensible by installing plugins\n",
    "* Use the **Search Bar** (type <kbd>L</kbd>) to find commands quickly"
   ]
  },
  {
   "cell_type": "markdown",
   "metadata": {
    "slideshow": {
     "slide_type": "slide"
    }
   },
   "source": [
    "#### Some handy shortcuts for ImageJ\n",
    "\n",
    "|     Keys                     |     Function                     |\n",
    "|------------------------------|----------------------------------|\n",
    "| <kbd>L</kbd>                 | Focus search bar                 |\n",
    "| <kbd>Shift</kbd><kbd>C</kbd> | Brightness &amp; Contrast dialog |\n",
    "| <kbd>Shift</kbd><kbd>Z</kbd> | Channels tool                    |\n",
    "| <kbd>Shift</kbd><kbd>T</kbd> | Adjust threshold                 |\n",
    "| <kbd>Shift</kbd><kbd>D</kbd> | Duplicate image                  |\n",
    "| <kbd>Shift</kbd><kbd>X</kbd> | Crop image                       |\n",
    "| <kbd>H</kbd>                 | Image histogram                  |\n",
    "| <kbd>T</kbd>                 | Add selection to ROI Manager     |\n",
    "| <kbd>M</kbd>                 | Measure                          |\n",
    "| <kbd>K</kbd>                 | Plot profile                     |\n",
    "| <kbd>Shift</kbd><kbd>E</kbd> | Restore selection                |\n",
    "| <kbd>R</kbd>                 | Revert image                     |\n",
    "\n",
    "\n"
   ]
  },
  {
   "cell_type": "markdown",
   "metadata": {
    "cell_style": "split",
    "slideshow": {
     "slide_type": "slide"
    }
   },
   "source": [
    "![The Pixel Inspector tool in Fiji](images/screen/fiji-toolbar-pixel-inpector.png)"
   ]
  },
  {
   "cell_type": "markdown",
   "metadata": {
    "cell_style": "split",
    "slideshow": {
     "slide_type": "-"
    }
   },
   "source": [
    "#### Exercise - Pixels\n",
    "\n",
    "* Load the **Cell Colony** sample image (*File > Open Samples > Cell Colony (31K)*)\n",
    "* Activate the **Pixel Inspector** tool by clicking on <kbd>&gt;&gt;</kbd>&nbsp;<kbd>Pixel&nbsp;Inspector</kbd>\n",
    "* What is the *coordinate* of the upper left corner pixel?\n",
    "* What is the *intensity* of the upper left corner pixel?"
   ]
  },
  {
   "cell_type": "markdown",
   "metadata": {
    "slideshow": {
     "slide_type": "slide"
    }
   },
   "source": [
    "### Regions of interest (ROIs)\n",
    "\n",
    "* ROIs allow measurements specific to parts of an image\n",
    "  * Many possible shapes: rectangles, ovals, polygons, lines, angles, ...\n",
    "  * There a *single* active selection; use the ROI Manager to collect multiple ROIs\n"
   ]
  },
  {
   "cell_type": "markdown",
   "metadata": {
    "cell_style": "split",
    "slideshow": {
     "slide_type": "slide"
    }
   },
   "source": [
    "![The ROI Manager](images/screen/imagej-roi-manager.png)"
   ]
  },
  {
   "cell_type": "markdown",
   "metadata": {
    "cell_style": "split",
    "slideshow": {
     "slide_type": "-"
    }
   },
   "source": [
    "#### Exercise - Pixels\n",
    "\n",
    "* Load the **Dot Blot** sample image (*File > Open Samples > Dot Blot (7K)*)\n",
    "* Make a new selection using a tool of your choice\n",
    "* Add the selection to the ROI Manager (press <kbd>T</kbd>, or *Edit > Selection > Add to Manager*)\n",
    "* Add several more selections to the manager\n",
    "* Click <kbd>Measure</kbd> in the ROI Manager window"
   ]
  },
  {
   "cell_type": "markdown",
   "metadata": {
    "slideshow": {
     "slide_type": "slide"
    }
   },
   "source": [
    "### Bit depth\n",
    "\n",
    "|  Type  |   Range               |  Numeric type  |\n",
    "|--------|-----------------------|----------------|\n",
    "|  8-bit |         0 - 255       |     Integer    |\n",
    "| 16-bit |         0 - 65535     |     Integer    |\n",
    "| 32-bit | -Infinity - +Infinity | Floating point |\n"
   ]
  },
  {
   "cell_type": "markdown",
   "metadata": {
    "slideshow": {
     "slide_type": "slide"
    }
   },
   "source": [
    "### Look-up tables\n",
    "\n",
    "* Channel color information can be displayed with different false-color look-up tables (LUTs)\n",
    "  * *Image > Lookup Tables* submenu\n",
    "  * *LUT* tool button in the toolbar\n"
   ]
  },
  {
   "cell_type": "markdown",
   "metadata": {
    "cell_style": "split",
    "slideshow": {
     "slide_type": "slide"
    }
   },
   "source": [
    "![Mitosis](images/screen/imagej-hyperstack.png)"
   ]
  },
  {
   "cell_type": "markdown",
   "metadata": {
    "cell_style": "split",
    "slideshow": {
     "slide_type": "-"
    }
   },
   "source": [
    "### Dimensionality / Hyperstacks\n",
    "\n",
    "Scientific images can contain many dimensions:\n",
    "\n",
    "* Channels `c`\n",
    "* Z Slices `z`\n",
    "* Time frames `t`\n",
    "\n",
    "In ImageJ, multi-dimensional images are displayed as *hyperstacks*.\n",
    "\n",
    "---\n",
    "\n",
    "*File > Open Samples > Mitosis (26MB, 5D Stack)*\n",
    "\n",
    "*Image > Color > Channels Tool...* <kbd>Shift</kbd> <kbd>Z</kbd>"
   ]
  },
  {
   "cell_type": "markdown",
   "metadata": {
    "slideshow": {
     "slide_type": "slide"
    }
   },
   "source": [
    "#### Opening multi-dimensional images\n",
    "\n",
    "* Images can be opened in various ways:\n",
    "\n",
    "  * Drag and drop files to the toolbar\n",
    "  * *File > Open...*\n",
    "  * *File > Import > Image Sequence...*\n",
    "  * Drag entire folder onto the toolbar\n",
    "  * *Plugins > Bio-Formats > Bio-Formats Importer*\n"
   ]
  },
  {
   "cell_type": "markdown",
   "metadata": {
    "slideshow": {
     "slide_type": "slide"
    }
   },
   "source": [
    "### Histograms\n",
    "\n",
    "* Press <kbd>H</kbd> (*Analyze > Histogram*) to get an image histogram"
   ]
  },
  {
   "cell_type": "markdown",
   "metadata": {
    "cell_style": "split",
    "slideshow": {
     "slide_type": "slide"
    }
   },
   "source": [
    "![Mitosis](images/screen/hela-cells-window.png)"
   ]
  },
  {
   "cell_type": "markdown",
   "metadata": {
    "cell_style": "split",
    "slideshow": {
     "slide_type": "-"
    }
   },
   "source": [
    "#### Exercise - Histogram\n",
    "\n",
    "* Load the **HeLa Cells** sample image (*File > Open Samples > HeLa Cells (1.3M, 48-bit RGB)*)\n",
    "* Plot the histogram for each channel (*Analyze > Histogram*, <kbd>H</kbd>)\n",
    "* Examine the histograms; what's wrong?"
   ]
  },
  {
   "cell_type": "markdown",
   "metadata": {
    "slideshow": {
     "slide_type": "slide"
    }
   },
   "source": [
    "#### Bit depth - Exercise\n",
    "\n",
    "* Create a new image (*File > New > Image...*) containing a ramp in 8-bit\n",
    "* Multiply the image by 2 and observe the values\n",
    "\n",
    "---\n",
    "\n",
    "* Open the *M51 Galaxy* sample image\n",
    "* Duplicate the image a few times and create an *8-bit* and a *32-bit* version\n",
    "* Apply a Gamma scaling of 0.5 to each image (*Process > Math > Gamma...*)\n",
    "* Compare the histograms"
   ]
  },
  {
   "cell_type": "markdown",
   "metadata": {
    "slideshow": {
     "slide_type": "slide"
    }
   },
   "source": [
    "#### Intensity profiles\n",
    "\n",
    "* *Analyze > Plot profile* <kbd>K</kbd>"
   ]
  },
  {
   "cell_type": "markdown",
   "metadata": {
    "cell_style": "split",
    "slideshow": {
     "slide_type": "slide"
    }
   },
   "source": [
    "![Mitosis](images/screen/fly-brain-window.png)"
   ]
  },
  {
   "cell_type": "markdown",
   "metadata": {
    "cell_style": "split",
    "slideshow": {
     "slide_type": "-"
    }
   },
   "source": [
    "#### Exercise - Plot profile\n",
    "\n",
    "* Load the **Fly Brain** sample image (*File > Open Samples > Fly Brain (1MB)*)\n",
    "* Split the channels\n",
    "* Draw a line across the brain in the green channel\n",
    "* Plot the profile (*Analyze > Plot profile* <kbd>K</kbd>)\n",
    "* What's problematic about the profile? Could you have seen this from looking at the histogram?"
   ]
  },
  {
   "cell_type": "markdown",
   "metadata": {},
   "source": [
    " "
   ]
  },
  {
   "cell_type": "markdown",
   "metadata": {
    "cell_style": "split",
    "slideshow": {
     "slide_type": "slide"
    }
   },
   "source": [
    "![Clown](images/screen/clown-window.png) ![Clown](images/screen/clown-window-composite.png)\n"
   ]
  },
  {
   "cell_type": "markdown",
   "metadata": {
    "cell_style": "split",
    "slideshow": {
     "slide_type": "-"
    }
   },
   "source": [
    "### Color information\n",
    "\n",
    "RGB images are their own image type, containing 3 values per pixel (8 bit each):\n",
    "\n",
    "* Open the *Clown* sample image\n",
    "* Move the mouse over the image and observe the status bar: `value=126,039,020 (#7e2714)`\n",
    "\n",
    "We can display any RGB image as a multi-channel image:\n",
    "\n",
    "* *Image > Color > Make Composite*"
   ]
  },
  {
   "cell_type": "markdown",
   "metadata": {
    "slideshow": {
     "slide_type": "slide"
    }
   },
   "source": [
    "### Color spaces\n",
    "\n",
    "* Convert between color spaces\n",
    "\n",
    "  * *Image > Type*\n",
    "    * *RGB Stack*\n",
    "    * *HSB Stack*"
   ]
  },
  {
   "cell_type": "markdown",
   "metadata": {
    "slideshow": {
     "slide_type": "slide"
    }
   },
   "source": [
    "### File formats\n",
    "\n",
    "A word of caution: avoid JPEG, as it produces compression artifacts\n",
    "\n",
    "* *File > Open Samples > Leaf (36K)*\n",
    "* Switch to HSB color space (*Image > Type > HSB Stack*)"
   ]
  },
  {
   "cell_type": "markdown",
   "metadata": {
    "slideshow": {
     "slide_type": "slide"
    }
   },
   "source": [
    "### Image Metadata\n",
    "\n",
    "* Images can be calibrated both in spatial dimensions (x,y,z) and in intensity values.\n",
    "  * *Image > Properties...* <kbd>Shift</kbd><kbd>P</kbd>\n",
    "  * *Analyze > Set Scale...*\n",
    "  * *Analyze > Calibrate...*\n",
    "\n",
    "* Adding a scale bar:\n",
    "  * *Analyze > Tools > Scale Bar...*"
   ]
  },
  {
   "cell_type": "markdown",
   "metadata": {
    "cell_style": "split",
    "slideshow": {
     "slide_type": "slide"
    }
   },
   "source": [
    "![Clown](images/screen/embryos-window.png)\n"
   ]
  },
  {
   "cell_type": "markdown",
   "metadata": {
    "cell_style": "split",
    "slideshow": {
     "slide_type": "-"
    }
   },
   "source": [
    "#### Exercise - Scale\n",
    "\n",
    "* Open the *Embryos* sample image\n",
    "* Set the scale according to the scale bar in the image\n",
    "* Measure the size of some objects in the image"
   ]
  },
  {
   "cell_type": "markdown",
   "metadata": {
    "slideshow": {
     "slide_type": "slide"
    }
   },
   "source": [
    "#### More Exercises\n",
    "\n",
    "* What's wrong with these sample images?\n",
    "\n",
    "  * *Fluorescent Cells*\n",
    "  * *Blobs*\n",
    "  "
   ]
  },
  {
   "cell_type": "markdown",
   "metadata": {
    "slideshow": {
     "slide_type": "slide"
    }
   },
   "source": [
    "### ImageJ Updater\n",
    "\n",
    "* *Help > Update...* will update ImageJ and all plugins\n",
    "  (different from *Help > Update ImageJ...* which will only update core ImageJ1)\n",
    "* Select the [update sites](https://imagej.net/Following_an_update_site) you need."
   ]
  },
  {
   "cell_type": "markdown",
   "metadata": {
    "slideshow": {
     "slide_type": "slide"
    }
   },
   "source": [
    "### ImageJ resources\n",
    "\n",
    "* User guides and tutorials - https://imagej.net/User_Guides\n",
    "* Getting help - https://imagej.net/Help\n",
    "* The Image Scientific Community forum - http://forum.image.sc/\n",
    "* Workshops and presentations - https://imagej.net/Presentations\n"
   ]
  }
 ],
 "metadata": {
  "celltoolbar": "Slideshow",
  "hide_input": false,
  "kernelspec": {
   "display_name": "Groovy",
   "language": "groovy",
   "name": "groovy"
  },
  "language_info": {
   "codemirror_mode": "groovy",
   "file_extension": ".groovy",
   "mimetype": "",
   "name": "Groovy",
   "nbconverter_exporter": "",
   "version": "2.4.3"
  },
  "rise": {
   "autolaunch": true,
   "scroll": true
  },
  "toc": {
   "base_numbering": 1,
   "nav_menu": {},
   "number_sections": false,
   "sideBar": false,
   "skip_h1_title": false,
   "title_cell": "Table of Contents",
   "title_sidebar": "Contents",
   "toc_cell": false,
   "toc_position": {},
   "toc_section_display": false,
   "toc_window_display": false
  }
 },
 "nbformat": 4,
 "nbformat_minor": 2
}
